{
 "cells": [
  {
   "cell_type": "code",
   "execution_count": 10,
   "metadata": {
    "collapsed": true
   },
   "outputs": [
    {
     "name": "stdout",
     "output_type": "stream",
     "text": [
      "{'model': 'ensemble', 'date': '2022-08-13/2022-08-15', 'format': 'grib', 'variable': 'mugwort_pollen', 'level': '0', 'leadtime_hour': '0', 'time': '00:00', 'type': 'forecast'}\n",
      "Loading Data Store credentials\n",
      "Credentials configured\n"
     ]
    },
    {
     "name": "stderr",
     "output_type": "stream",
     "text": [
      "/Users/desmondmolloy/.conda/envs/EUPOLLEN/lib/python3.8/site-packages/urllib3/connectionpool.py:1045: InsecureRequestWarning: Unverified HTTPS request is being made to host 'ads.atmosphere.copernicus.eu'. Adding certificate verification is strongly advised. See: https://urllib3.readthedocs.io/en/1.26.x/advanced-usage.html#ssl-warnings\n",
      "  warnings.warn(\n",
      "2022-08-16 16:26:46,989 INFO Welcome to the CDS\n",
      "2022-08-16 16:26:46,990 INFO Sending request to https://ads.atmosphere.copernicus.eu/api/v2/resources/cams-europe-air-quality-forecasts\n",
      "/Users/desmondmolloy/.conda/envs/EUPOLLEN/lib/python3.8/site-packages/urllib3/connectionpool.py:1045: InsecureRequestWarning: Unverified HTTPS request is being made to host 'ads.atmosphere.copernicus.eu'. Adding certificate verification is strongly advised. See: https://urllib3.readthedocs.io/en/1.26.x/advanced-usage.html#ssl-warnings\n",
      "  warnings.warn(\n",
      "2022-08-16 16:26:47,066 INFO Request is queued\n",
      "/Users/desmondmolloy/.conda/envs/EUPOLLEN/lib/python3.8/site-packages/urllib3/connectionpool.py:1045: InsecureRequestWarning: Unverified HTTPS request is being made to host 'ads.atmosphere.copernicus.eu'. Adding certificate verification is strongly advised. See: https://urllib3.readthedocs.io/en/1.26.x/advanced-usage.html#ssl-warnings\n",
      "  warnings.warn(\n",
      "2022-08-16 16:26:48,137 INFO Request is completed\n",
      "2022-08-16 16:26:48,140 INFO Downloading https://download-0004-ads-clone.copernicus-climate.eu/cache-compute-0004/cache/data4/adaptor.cams_regional_fc.retrieve-1660660007.4175582-22366-15-ef0dc2f8-9da1-4d9d-8b61-be3866b548b6.grib to ./data/download.grib (2.5M)\n",
      "/Users/desmondmolloy/.conda/envs/EUPOLLEN/lib/python3.8/site-packages/urllib3/connectionpool.py:1045: InsecureRequestWarning: Unverified HTTPS request is being made to host 'download-0004-ads-clone.copernicus-climate.eu'. Adding certificate verification is strongly advised. See: https://urllib3.readthedocs.io/en/1.26.x/advanced-usage.html#ssl-warnings\n",
      "  warnings.warn(\n",
      "2022-08-16 16:26:48,895 INFO Download rate 3.3M/s   \n",
      "/Users/desmondmolloy/.conda/envs/EUPOLLEN/lib/python3.8/site-packages/urllib3/connectionpool.py:1045: InsecureRequestWarning: Unverified HTTPS request is being made to host 'ads.atmosphere.copernicus.eu'. Adding certificate verification is strongly advised. See: https://urllib3.readthedocs.io/en/1.26.x/advanced-usage.html#ssl-warnings\n",
      "  warnings.warn(\n"
     ]
    }
   ],
   "source": [
    "import matplotlib.pyplot as plt\n",
    "import json\n",
    "from polleniser.connector import CopernicusConnector\n",
    "#Reference: https://devenum.com/how-to-convert-text-file-to-a-dictionary-in-python/\n",
    "query = []\n",
    "with open(\"queries/aggregated_pollen.json\") as file:\n",
    "    data = json.load(file)\n",
    "print(data)\n",
    "df = CopernicusConnector()\n",
    "df.query(data)\n"
   ]
  },
  {
   "cell_type": "code",
   "execution_count": 1,
   "outputs": [
    {
     "ename": "ValueError",
     "evalue": "cannot reshape array of size 882000 into shape (255,1153,3)",
     "output_type": "error",
     "traceback": [
      "\u001B[0;31m---------------------------------------------------------------------------\u001B[0m",
      "\u001B[0;31mValueError\u001B[0m                                Traceback (most recent call last)",
      "Input \u001B[0;32mIn [1]\u001B[0m, in \u001B[0;36m<cell line: 8>\u001B[0;34m()\u001B[0m\n\u001B[1;32m      3\u001B[0m src_filename \u001B[38;5;241m=\u001B[39m \u001B[38;5;124m'\u001B[39m\u001B[38;5;124mdata/download.grib\u001B[39m\u001B[38;5;124m'\u001B[39m\n\u001B[1;32m      6\u001B[0m \u001B[38;5;28;01mimport\u001B[39;00m \u001B[38;5;21;01mgdal\u001B[39;00m\n\u001B[0;32m----> 8\u001B[0m ds \u001B[38;5;241m=\u001B[39m \u001B[43mgdal\u001B[49m\u001B[38;5;241;43m.\u001B[39;49m\u001B[43mOpen\u001B[49m\u001B[43m(\u001B[49m\u001B[43msrc_filename\u001B[49m\u001B[43m)\u001B[49m\u001B[38;5;241;43m.\u001B[39;49m\u001B[43mReadAsArray\u001B[49m\u001B[43m(\u001B[49m\u001B[43m)\u001B[49m\u001B[38;5;241;43m.\u001B[39;49m\u001B[43mreshape\u001B[49m\u001B[43m(\u001B[49m\u001B[43m(\u001B[49m\u001B[38;5;241;43m255\u001B[39;49m\u001B[43m,\u001B[49m\u001B[43m \u001B[49m\u001B[38;5;241;43m1153\u001B[39;49m\u001B[43m,\u001B[49m\u001B[38;5;241;43m3\u001B[39;49m\u001B[43m)\u001B[49m\u001B[43m)\u001B[49m\n\u001B[1;32m      9\u001B[0m plt\u001B[38;5;241m.\u001B[39mimshow(ds)\n\u001B[1;32m     10\u001B[0m plt\u001B[38;5;241m.\u001B[39mshow()\n",
      "\u001B[0;31mValueError\u001B[0m: cannot reshape array of size 882000 into shape (255,1153,3)"
     ]
    }
   ],
   "source": [
    "#Citation: https://stackoverflow.com/questions/54099090/how-to-transform-grib-file-into-a-geotiff-with-correct-projection-using-python\n",
    "dst_filename = 'data/test.tif'\n",
    "src_filename = 'data/download.grib'\n",
    "\n",
    "\n",
    "import gdal\n",
    "\n",
    "ds = gdal.Open(src_filename).ReadAsArray().reshape((255, 1153,3))\n",
    "plt.imshow(ds)\n",
    "plt.show()"
   ],
   "metadata": {
    "collapsed": false,
    "pycharm": {
     "name": "#%%\n"
    }
   }
  }
 ],
 "metadata": {
  "kernelspec": {
   "display_name": "Python 3",
   "language": "python",
   "name": "python3"
  },
  "language_info": {
   "codemirror_mode": {
    "name": "ipython",
    "version": 2
   },
   "file_extension": ".py",
   "mimetype": "text/x-python",
   "name": "python",
   "nbconvert_exporter": "python",
   "pygments_lexer": "ipython2",
   "version": "2.7.6"
  }
 },
 "nbformat": 4,
 "nbformat_minor": 0
}